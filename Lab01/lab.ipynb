{
 "cells": [
  {
   "cell_type": "code",
   "execution_count": 51,
   "id": "b6ce4018",
   "metadata": {},
   "outputs": [],
   "source": [
    "using JuMP"
   ]
  },
  {
   "cell_type": "code",
   "execution_count": 52,
   "id": "84e29208",
   "metadata": {},
   "outputs": [
    {
     "name": "stderr",
     "output_type": "stream",
     "text": [
      "\u001b[32m\u001b[1m   Resolving\u001b[22m\u001b[39m package versions...\n",
      "\u001b[32m\u001b[1m  No Changes\u001b[22m\u001b[39m to `C:\\Users\\olewna\\.julia\\environments\\v1.11\\Project.toml`\n",
      "\u001b[32m\u001b[1m  No Changes\u001b[22m\u001b[39m to `C:\\Users\\olewna\\.julia\\environments\\v1.11\\Manifest.toml`\n",
      "\u001b[32m\u001b[1m   Resolving\u001b[22m\u001b[39m package versions...\n",
      "\u001b[32m\u001b[1m  No Changes\u001b[22m\u001b[39m to `C:\\Users\\olewna\\.julia\\environments\\v1.11\\Project.toml`\n",
      "\u001b[32m\u001b[1m  No Changes\u001b[22m\u001b[39m to `C:\\Users\\olewna\\.julia\\environments\\v1.11\\Manifest.toml`\n"
     ]
    }
   ],
   "source": [
    "import Pkg\n",
    "Pkg.add(\"SCS\")\n",
    "Pkg.add(\"SDPA\")\n",
    "using SDPA\n",
    "using SCS"
   ]
  },
  {
   "cell_type": "code",
   "execution_count": 53,
   "id": "74ae9e67",
   "metadata": {},
   "outputs": [
    {
     "data": {
      "text/plain": [
       "A JuMP Model\n",
       "├ solver: SCS\n",
       "├ objective_sense: FEASIBILITY_SENSE\n",
       "├ num_variables: 0\n",
       "├ num_constraints: 0\n",
       "└ Names registered in the model: none"
      ]
     },
     "metadata": {},
     "output_type": "display_data"
    }
   ],
   "source": [
    "model = Model(SCS.Optimizer)"
   ]
  },
  {
   "cell_type": "code",
   "execution_count": 54,
   "id": "7db52681",
   "metadata": {},
   "outputs": [
    {
     "data": {
      "text/latex": [
       "$ x $"
      ],
      "text/plain": [
       "x"
      ]
     },
     "metadata": {},
     "output_type": "display_data"
    }
   ],
   "source": [
    "@variable(model, x >= 0)"
   ]
  },
  {
   "cell_type": "code",
   "execution_count": 55,
   "id": "06c37319",
   "metadata": {},
   "outputs": [
    {
     "data": {
      "text/latex": [
       "$ y $"
      ],
      "text/plain": [
       "y"
      ]
     },
     "metadata": {},
     "output_type": "display_data"
    }
   ],
   "source": [
    "@variable(model, 0 <= y <= 3)"
   ]
  },
  {
   "cell_type": "code",
   "execution_count": 56,
   "id": "68d63fbb",
   "metadata": {},
   "outputs": [
    {
     "data": {
      "text/latex": [
       "$ 12 x + 20 y $"
      ],
      "text/plain": [
       "12 x + 20 y"
      ]
     },
     "metadata": {},
     "output_type": "display_data"
    }
   ],
   "source": [
    "@objective(model, Min, 12x + 20y)"
   ]
  },
  {
   "cell_type": "code",
   "execution_count": 57,
   "id": "74fa5e4f",
   "metadata": {},
   "outputs": [
    {
     "data": {
      "text/latex": [
       "$$ 6 x + 8 y \\geq 100 $$"
      ],
      "text/plain": [
       "c1 : 6 x + 8 y >= 100"
      ]
     },
     "metadata": {},
     "output_type": "display_data"
    }
   ],
   "source": [
    "@constraint(model, c1, 6x + 8y >= 100)"
   ]
  },
  {
   "cell_type": "code",
   "execution_count": 58,
   "id": "60f7c280",
   "metadata": {},
   "outputs": [
    {
     "data": {
      "text/latex": [
       "$$ 7 x + 12 y \\geq 120 $$"
      ],
      "text/plain": [
       "c2 : 7 x + 12 y >= 120"
      ]
     },
     "metadata": {},
     "output_type": "display_data"
    }
   ],
   "source": [
    "@constraint(model, c2, 7x + 12y >= 120)"
   ]
  },
  {
   "cell_type": "code",
   "execution_count": 59,
   "id": "d3cf0995",
   "metadata": {},
   "outputs": [
    {
     "name": "stdout",
     "output_type": "stream",
     "text": [
      "Min 12 x + 20 y\n",
      "Subject to\n",
      " c1 : 6 x + 8 y >= 100\n",
      " c2 : 7 x + 12 y >= 120\n",
      " x >= 0\n",
      " y >= 0\n",
      " y <= 3\n"
     ]
    }
   ],
   "source": [
    "print(model)"
   ]
  },
  {
   "cell_type": "code",
   "execution_count": 60,
   "id": "ae19a06b",
   "metadata": {},
   "outputs": [
    {
     "name": "stdout",
     "output_type": "stream",
     "text": [
      "------------------------------------------------------------------\n",
      "\t       SCS v3.2.8 - Splitting Conic Solver\n",
      "\t(c) Brendan O'Donoghue, Stanford University, 2012\n",
      "------------------------------------------------------------------\n",
      "problem:  variables n: 2, constraints m: 5\n",
      "cones: \t  l: linear vars: 5\n",
      "settings: eps_abs: 1.0e-004, eps_rel: 1.0e-004, eps_infeas: 1.0e-007\n",
      "\t  alpha: 1.50, scale: 1.00e-001, adaptive_scale: 1\n",
      "\t  max_iters: 100000, normalize: 1, rho_x: 1.00e-006\n",
      "\t  acceleration_lookback: 10, acceleration_interval: 10\n",
      "\t  compiled with openmp parallelization enabled\n",
      "lin-sys:  sparse-direct-amd-qdldl\n",
      "\t  nnz(A): 7, nnz(P): 0\n",
      "------------------------------------------------------------------\n",
      " iter | pri res | dua res |   gap   |   obj   |  scale  | time (s)\n",
      "------------------------------------------------------------------\n",
      "     0|1.11e+002 1.54e+001 3.85e+002 2.07e+002 1.00e-001 3.71e-004 \n",
      "   100|2.53e-004 1.40e-005 3.34e-004 2.05e+002 1.00e-001 1.06e-003 \n",
      "------------------------------------------------------------------\n",
      "status:  solved\n",
      "timings: total: 1.06e-003s = setup: 1.09e-004s + solve: 9.48e-004s\n",
      "\t lin-sys: 1.68e-005s, cones: 1.07e-005s, accel: 5.73e-005s\n",
      "------------------------------------------------------------------\n",
      "objective = 205.000259\n",
      "------------------------------------------------------------------\n"
     ]
    }
   ],
   "source": [
    "optimize!(model)"
   ]
  },
  {
   "cell_type": "code",
   "execution_count": 61,
   "id": "4ffac12c",
   "metadata": {},
   "outputs": [
    {
     "data": {
      "text/plain": [
       "15.000011235135679"
      ]
     },
     "metadata": {},
     "output_type": "display_data"
    }
   ],
   "source": [
    "value(x)"
   ]
  },
  {
   "cell_type": "code",
   "execution_count": 62,
   "id": "2832dcd8",
   "metadata": {},
   "outputs": [
    {
     "data": {
      "text/plain": [
       "1.2500145605451325"
      ]
     },
     "metadata": {},
     "output_type": "display_data"
    }
   ],
   "source": [
    "value(y)"
   ]
  },
  {
   "cell_type": "code",
   "execution_count": 63,
   "id": "092ae592",
   "metadata": {},
   "outputs": [
    {
     "data": {
      "text/plain": [
       "OPTIMAL::TerminationStatusCode = 1"
      ]
     },
     "metadata": {},
     "output_type": "display_data"
    }
   ],
   "source": [
    "termination_status(model)"
   ]
  },
  {
   "cell_type": "code",
   "execution_count": 64,
   "id": "6814fbbf",
   "metadata": {},
   "outputs": [
    {
     "data": {
      "text/plain": [
       "FEASIBLE_POINT::ResultStatusCode = 1"
      ]
     },
     "metadata": {},
     "output_type": "display_data"
    }
   ],
   "source": [
    "primal_status(model)"
   ]
  },
  {
   "cell_type": "code",
   "execution_count": 65,
   "id": "f576f81b",
   "metadata": {},
   "outputs": [
    {
     "data": {
      "text/plain": [
       "FEASIBLE_POINT::ResultStatusCode = 1"
      ]
     },
     "metadata": {},
     "output_type": "display_data"
    }
   ],
   "source": [
    "dual_status(model)"
   ]
  },
  {
   "cell_type": "code",
   "execution_count": 66,
   "id": "c0b93c79",
   "metadata": {},
   "outputs": [
    {
     "data": {
      "text/plain": [
       "205.0004260325308"
      ]
     },
     "metadata": {},
     "output_type": "display_data"
    }
   ],
   "source": [
    "objective_value(model)"
   ]
  },
  {
   "cell_type": "code",
   "execution_count": 67,
   "id": "a16b0138",
   "metadata": {},
   "outputs": [
    {
     "data": {
      "text/plain": [
       "true"
      ]
     },
     "metadata": {},
     "output_type": "display_data"
    }
   ],
   "source": [
    "is_solved_and_feasible(model)"
   ]
  },
  {
   "cell_type": "code",
   "execution_count": 68,
   "id": "35b62828",
   "metadata": {},
   "outputs": [
    {
     "data": {
      "text/plain": [
       "4-element Vector{VariableRef}:\n",
       " z[1]\n",
       " z[2]\n",
       " z[3]\n",
       " z[4]"
      ]
     },
     "metadata": {},
     "output_type": "display_data"
    }
   ],
   "source": [
    "@variable(model, z[1:4])"
   ]
  },
  {
   "cell_type": "code",
   "execution_count": 69,
   "id": "fcd8d587",
   "metadata": {},
   "outputs": [
    {
     "data": {
      "text/plain": [
       "3×4 Matrix{Int64}:\n",
       " 1  1  9   5\n",
       " 3  5  0   8\n",
       " 2  0  6  13"
      ]
     },
     "metadata": {},
     "output_type": "display_data"
    }
   ],
   "source": [
    "A = [1 1 9 5; 3 5 0 8; 2 0 6 13]"
   ]
  },
  {
   "cell_type": "code",
   "execution_count": 70,
   "id": "53012f50",
   "metadata": {},
   "outputs": [
    {
     "data": {
      "text/plain": [
       "3-element Vector{Int64}:\n",
       " 7\n",
       " 3\n",
       " 5"
      ]
     },
     "metadata": {},
     "output_type": "display_data"
    }
   ],
   "source": [
    "b = [7, 3, 5]"
   ]
  },
  {
   "cell_type": "code",
   "execution_count": 71,
   "id": "c1f3ef42",
   "metadata": {},
   "outputs": [
    {
     "data": {
      "text/plain": [
       "4-element Vector{Int64}:\n",
       " 1\n",
       " 3\n",
       " 5\n",
       " 2"
      ]
     },
     "metadata": {},
     "output_type": "display_data"
    }
   ],
   "source": [
    "c = [1, 3, 5, 2]"
   ]
  },
  {
   "cell_type": "code",
   "execution_count": 72,
   "id": "8a7a04e8",
   "metadata": {},
   "outputs": [
    {
     "data": {
      "text/plain": [
       "4-element Vector{VariableRef}:\n",
       " z[1]\n",
       " z[2]\n",
       " z[3]\n",
       " z[4]"
      ]
     },
     "metadata": {},
     "output_type": "display_data"
    }
   ],
   "source": [
    "unregister(model, :z)\n",
    "z = @variable(model, z[1:4] >= 0)"
   ]
  },
  {
   "cell_type": "code",
   "execution_count": 73,
   "id": "f3b8b103",
   "metadata": {},
   "outputs": [
    {
     "data": {
      "text/plain": [
       "3-element Vector{ConstraintRef{Model, MathOptInterface.ConstraintIndex{MathOptInterface.ScalarAffineFunction{Float64}, MathOptInterface.EqualTo{Float64}}, ScalarShape}}:\n",
       " z[1] + z[2] + 9 z[3] + 5 z[4] == 7\n",
       " 3 z[1] + 5 z[2] + 8 z[4] == 3\n",
       " 2 z[1] + 6 z[3] + 13 z[4] == 5"
      ]
     },
     "metadata": {},
     "output_type": "display_data"
    }
   ],
   "source": [
    "@constraint(model, A * z .== b)"
   ]
  },
  {
   "cell_type": "code",
   "execution_count": 74,
   "id": "2d4d1024",
   "metadata": {},
   "outputs": [
    {
     "data": {
      "text/latex": [
       "$ z_{1} + 3 z_{2} + 5 z_{3} + 2 z_{4} $"
      ],
      "text/plain": [
       "z[1] + 3 z[2] + 5 z[3] + 2 z[4]"
      ]
     },
     "metadata": {},
     "output_type": "display_data"
    }
   ],
   "source": [
    "@objective(model, Min, c' * z)"
   ]
  },
  {
   "cell_type": "code",
   "execution_count": 75,
   "id": "e79ded86",
   "metadata": {},
   "outputs": [
    {
     "name": "stdout",
     "output_type": "stream",
     "text": [
      "------------------------------------------------------------------\n",
      "\t       SCS v3.2.8 - Splitting Conic Solver\n",
      "\t(c) Brendan O'Donoghue, Stanford University, 2012\n",
      "------------------------------------------------------------------\n",
      "problem:  variables n: 10, constraints m: 12\n",
      "cones: \t  z: primal zero / dual free vars: 3\n",
      "\t  l: linear vars: 9\n",
      "settings: eps_abs: 1.0e-004, eps_rel: 1.0e-004, eps_infeas: 1.0e-007\n",
      "\t  alpha: 1.50, scale: 1.00e-001, adaptive_scale: 1\n",
      "\t  max_iters: 100000, normalize: 1, rho_x: 1.00e-006\n",
      "\t  acceleration_lookback: 10, acceleration_interval: 10\n",
      "\t  compiled with openmp parallelization enabled\n",
      "lin-sys:  sparse-direct-amd-qdldl\n",
      "\t  nnz(A): 21, nnz(P): 0\n",
      "------------------------------------------------------------------\n",
      " iter | pri res | dua res |   gap   |   obj   |  scale  | time (s)\n",
      "------------------------------------------------------------------\n",
      "     0|5.84e+001 8.87e+000 1.17e+002 6.75e+001 1.00e-001 2.60e-004 \n",
      "   100|2.06e-004 1.03e-004 3.65e-004 4.92e+000 1.00e-001 1.08e-003 \n",
      "------------------------------------------------------------------\n",
      "status:  solved\n",
      "timings: total: 1.08e-003s = setup: 5.57e-005s + solve: 1.02e-003s\n",
      "\t lin-sys: 2.85e-005s, cones: 8.80e-006s, accel: 4.90e-006s\n",
      "------------------------------------------------------------------\n",
      "objective = 4.922917\n",
      "------------------------------------------------------------------\n"
     ]
    }
   ],
   "source": [
    "optimize!(model)"
   ]
  },
  {
   "cell_type": "code",
   "execution_count": 76,
   "id": "77447e88",
   "metadata": {},
   "outputs": [
    {
     "data": {
      "text/plain": [
       "4-element Vector{Float64}:\n",
       "  0.4243554185825093\n",
       "  0.3457161981012389\n",
       "  0.6923284521800921\n",
       " -0.0002059238432578908"
      ]
     },
     "metadata": {},
     "output_type": "display_data"
    }
   ],
   "source": [
    "value(z)"
   ]
  },
  {
   "cell_type": "code",
   "execution_count": 79,
   "id": "d492a40f",
   "metadata": {},
   "outputs": [],
   "source": [
    "assert_is_solved_and_feasible(model)"
   ]
  },
  {
   "cell_type": "code",
   "execution_count": 80,
   "id": "163b1808",
   "metadata": {},
   "outputs": [
    {
     "data": {
      "text/plain": [
       "4.92273442610017"
      ]
     },
     "metadata": {},
     "output_type": "display_data"
    }
   ],
   "source": [
    "objective_value(model)"
   ]
  },
  {
   "cell_type": "code",
   "execution_count": null,
   "id": "cb7b6606",
   "metadata": {},
   "outputs": [],
   "source": []
  }
 ],
 "metadata": {
  "kernelspec": {
   "display_name": "Julia 1.11.7",
   "language": "julia",
   "name": "julia-1.11"
  },
  "language_info": {
   "file_extension": ".jl",
   "mimetype": "application/julia",
   "name": "julia",
   "version": "1.11.7"
  }
 },
 "nbformat": 4,
 "nbformat_minor": 5
}
