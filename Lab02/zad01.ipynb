{
 "cells": [
  {
   "cell_type": "code",
   "execution_count": 33,
   "id": "4bd365ff",
   "metadata": {},
   "outputs": [],
   "source": [
    "using JuMP\n",
    "using SDPA\n",
    "using SCS"
   ]
  },
  {
   "cell_type": "code",
   "execution_count": 34,
   "id": "b5b44f7c",
   "metadata": {},
   "outputs": [
    {
     "data": {
      "text/plain": [
       "A JuMP Model\n",
       "├ solver: SCS\n",
       "├ objective_sense: FEASIBILITY_SENSE\n",
       "├ num_variables: 0\n",
       "├ num_constraints: 0\n",
       "└ Names registered in the model: none"
      ]
     },
     "execution_count": 34,
     "metadata": {},
     "output_type": "execute_result"
    }
   ],
   "source": [
    "model = Model(SCS.Optimizer)"
   ]
  },
  {
   "cell_type": "code",
   "execution_count": 35,
   "id": "85124deb",
   "metadata": {},
   "outputs": [
    {
     "data": {
      "text/latex": [
       "$ x $"
      ],
      "text/plain": [
       "x"
      ]
     },
     "execution_count": 35,
     "metadata": {},
     "output_type": "execute_result"
    }
   ],
   "source": [
    "@variable(model, x)\n",
    "# var x"
   ]
  },
  {
   "cell_type": "code",
   "execution_count": 36,
   "id": "a7aefcc2",
   "metadata": {},
   "outputs": [
    {
     "data": {
      "text/latex": [
       "$ x $"
      ],
      "text/plain": [
       "x"
      ]
     },
     "execution_count": 36,
     "metadata": {},
     "output_type": "execute_result"
    }
   ],
   "source": [
    "@constraint(model, x >= 1)\n",
    "@constraint(model, x <= 0)\n",
    "@objective(model, Min, x)\n",
    "\n",
    "# min x\n",
    "# x <= 0 and x >= 1"
   ]
  },
  {
   "cell_type": "code",
   "execution_count": 37,
   "id": "921dcac9",
   "metadata": {},
   "outputs": [
    {
     "name": "stdout",
     "output_type": "stream",
     "text": [
      "------------------------------------------------------------------\n",
      "\t       SCS v3.2.8 - Splitting Conic Solver\n",
      "\t(c) Brendan O'Donoghue, Stanford University, 2012\n",
      "------------------------------------------------------------------\n",
      "problem:  variables n: 1, constraints m: 2\n",
      "cones: \t  l: linear vars: 2\n",
      "settings: eps_abs: 1.0e-004, eps_rel: 1.0e-004, eps_infeas: 1.0e-007\n",
      "\t  alpha: 1.50, scale: 1.00e-001, adaptive_scale: 1\n",
      "\t  max_iters: 100000, normalize: 1, rho_x: 1.00e-006\n",
      "\t  acceleration_lookback: 10, acceleration_interval: 10\n",
      "\t  compiled with openmp parallelization enabled\n",
      "lin-sys:  sparse-direct-amd-qdldl\n",
      "\t  nnz(A): 2, nnz(P): 0\n",
      "------------------------------------------------------------------\n",
      " iter | pri res | dua res |   gap   |   obj   |  scale  | time (s)\n",
      "------------------------------------------------------------------\n",
      "     0|1.00e+001 1.00e-001 1.01e+001 -3.95e+000 1.00e-001 3.06e-004 \n",
      "    25|3.05e+013 7.12e+010 1.41e+018 7.07e+017 1.00e-001 4.96e-004 \n",
      "------------------------------------------------------------------\n",
      "status:  infeasible\n",
      "timings: total: 4.99e-004s = setup: 6.58e-005s + solve: 4.33e-004s\n",
      "\t lin-sys: 5.40e-006s, cones: 4.40e-006s, accel: 2.30e-006s\n",
      "------------------------------------------------------------------\n",
      "objective = 1.#INF00\n",
      "------------------------------------------------------------------\n"
     ]
    }
   ],
   "source": [
    "optimize!(model)"
   ]
  },
  {
   "cell_type": "code",
   "execution_count": 38,
   "id": "f132d841",
   "metadata": {},
   "outputs": [
    {
     "data": {
      "text/latex": [
       "$$ \\begin{aligned}\n",
       "\\min\\quad & x\\\\\n",
       "\\text{Subject to} \\quad & x \\geq 1\\\\\n",
       " & x \\leq 0\\\\\n",
       "\\end{aligned} $$"
      ]
     },
     "metadata": {},
     "output_type": "display_data"
    }
   ],
   "source": [
    "print(model)"
   ]
  },
  {
   "cell_type": "code",
   "execution_count": 39,
   "id": "e4057cfb",
   "metadata": {},
   "outputs": [
    {
     "data": {
      "text/plain": [
       "INFEASIBLE::TerminationStatusCode = 2"
      ]
     },
     "execution_count": 39,
     "metadata": {},
     "output_type": "execute_result"
    }
   ],
   "source": [
    "termination_status(model)"
   ]
  },
  {
   "cell_type": "code",
   "execution_count": 41,
   "id": "dfe1c8bd",
   "metadata": {},
   "outputs": [
    {
     "data": {
      "text/plain": [
       "INFEASIBLE_POINT::ResultStatusCode = 3"
      ]
     },
     "execution_count": 41,
     "metadata": {},
     "output_type": "execute_result"
    }
   ],
   "source": [
    "primal_status(model)"
   ]
  },
  {
   "cell_type": "code",
   "execution_count": 42,
   "id": "8476a5c2",
   "metadata": {},
   "outputs": [
    {
     "data": {
      "text/plain": [
       "INFEASIBILITY_CERTIFICATE::ResultStatusCode = 4"
      ]
     },
     "execution_count": 42,
     "metadata": {},
     "output_type": "execute_result"
    }
   ],
   "source": [
    "dual_status(model)"
   ]
  },
  {
   "cell_type": "code",
   "execution_count": 47,
   "id": "bf429b96",
   "metadata": {},
   "outputs": [
    {
     "data": {
      "text/plain": [
       "false"
      ]
     },
     "execution_count": 47,
     "metadata": {},
     "output_type": "execute_result"
    }
   ],
   "source": [
    "is_solved_and_feasible(model)"
   ]
  },
  {
   "cell_type": "code",
   "execution_count": 48,
   "id": "69e1b3c3",
   "metadata": {},
   "outputs": [
    {
     "data": {
      "text/plain": [
       "A JuMP Model\n",
       "├ solver: SCS\n",
       "├ objective_sense: FEASIBILITY_SENSE\n",
       "├ num_variables: 0\n",
       "├ num_constraints: 0\n",
       "└ Names registered in the model: none"
      ]
     },
     "execution_count": 48,
     "metadata": {},
     "output_type": "execute_result"
    }
   ],
   "source": [
    "model2 = Model(SCS.Optimizer)"
   ]
  },
  {
   "cell_type": "code",
   "execution_count": 69,
   "id": "0e5bbe5d",
   "metadata": {},
   "outputs": [
    {
     "data": {
      "text/plain": [
       "2-element Vector{VariableRef}:\n",
       " x[1]\n",
       " x[2]"
      ]
     },
     "execution_count": 69,
     "metadata": {},
     "output_type": "execute_result"
    }
   ],
   "source": [
    "unregister(model2, :x)\n",
    "@variable(model2, x[1:2] >= 0)"
   ]
  },
  {
   "cell_type": "code",
   "execution_count": 70,
   "id": "ed5ea271",
   "metadata": {},
   "outputs": [
    {
     "data": {
      "text/latex": [
       "$$ [x_{1} - 1, x_{2} + 1] \\in \\text{Nonpositives()} $$"
      ],
      "text/plain": [
       "[x[1] - 1, x[2] + 1] in Nonpositives()"
      ]
     },
     "execution_count": 70,
     "metadata": {},
     "output_type": "execute_result"
    }
   ],
   "source": [
    "A = [1 0; 0 1]\n",
    "b = [1; -1]\n",
    "@constraint(model2, A*x ≤ b)"
   ]
  },
  {
   "cell_type": "code",
   "execution_count": 71,
   "id": "32bea82d",
   "metadata": {},
   "outputs": [
    {
     "data": {
      "text/latex": [
       "$ x_{1} + x_{2} $"
      ],
      "text/plain": [
       "x[1] + x[2]"
      ]
     },
     "execution_count": 71,
     "metadata": {},
     "output_type": "execute_result"
    }
   ],
   "source": [
    "@objective(model2, Max, x[1] + x[2])"
   ]
  },
  {
   "cell_type": "code",
   "execution_count": 72,
   "id": "56652a73",
   "metadata": {},
   "outputs": [
    {
     "name": "stdout",
     "output_type": "stream",
     "text": [
      "------------------------------------------------------------------\n",
      "\t       SCS v3.2.8 - Splitting Conic Solver\n",
      "\t(c) Brendan O'Donoghue, Stanford University, 2012\n",
      "------------------------------------------------------------------\n",
      "problem:  variables n: 7, constraints m: 12\n",
      "cones: \t  l: linear vars: 12\n",
      "settings: eps_abs: 1.0e-004, eps_rel: 1.0e-004, eps_infeas: 1.0e-007\n",
      "\t  alpha: 1.50, scale: 1.00e-001, adaptive_scale: 1\n",
      "\t  max_iters: 100000, normalize: 1, rho_x: 1.00e-006\n",
      "\t  acceleration_lookback: 10, acceleration_interval: 10\n",
      "\t  compiled with openmp parallelization enabled\n",
      "lin-sys:  sparse-direct-amd-qdldl\n",
      "\t  nnz(A): 20, nnz(P): 0\n",
      "------------------------------------------------------------------\n",
      " iter | pri res | dua res |   gap   |   obj   |  scale  | time (s)\n",
      "------------------------------------------------------------------\n",
      "     0|1.00e+001 1.73e+000 2.17e+001 -9.13e+000 1.00e-001 2.55e-004 \n",
      "    50|1.57e+013 5.11e+010 3.88e+018 1.94e+018 1.00e-001 6.23e-004 \n",
      "------------------------------------------------------------------\n",
      "status:  infeasible\n",
      "timings: total: 6.26e-004s = setup: 8.27e-005s + solve: 5.43e-004s\n",
      "\t lin-sys: 2.73e-005s, cones: 9.40e-006s, accel: 4.50e-006s\n",
      "------------------------------------------------------------------\n",
      "objective = 1.#INF00\n",
      "------------------------------------------------------------------\n"
     ]
    }
   ],
   "source": [
    "optimize!(model2)"
   ]
  },
  {
   "cell_type": "code",
   "execution_count": 68,
   "id": "830cb05b",
   "metadata": {},
   "outputs": [
    {
     "data": {
      "text/plain": [
       "2×2 adjoint(::Matrix{Int64}) with eltype Int64:\n",
       " 1  0\n",
       " 0  1"
      ]
     },
     "execution_count": 68,
     "metadata": {},
     "output_type": "execute_result"
    }
   ],
   "source": [
    "A'"
   ]
  },
  {
   "cell_type": "code",
   "execution_count": 67,
   "id": "ea2da704",
   "metadata": {},
   "outputs": [
    {
     "data": {
      "text/plain": [
       "2×2 Matrix{Int64}:\n",
       " 1  0\n",
       " 0  1"
      ]
     },
     "execution_count": 67,
     "metadata": {},
     "output_type": "execute_result"
    }
   ],
   "source": [
    "A"
   ]
  },
  {
   "cell_type": "code",
   "execution_count": null,
   "id": "654a036c",
   "metadata": {},
   "outputs": [],
   "source": []
  }
 ],
 "metadata": {
  "kernelspec": {
   "display_name": "Julia 1.11.7",
   "language": "julia",
   "name": "julia-1.11"
  },
  "language_info": {
   "file_extension": ".jl",
   "mimetype": "application/julia",
   "name": "julia",
   "version": "1.11.7"
  }
 },
 "nbformat": 4,
 "nbformat_minor": 5
}
