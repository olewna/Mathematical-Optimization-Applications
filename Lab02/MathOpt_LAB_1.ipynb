{
 "cells": [
  {
   "cell_type": "code",
   "execution_count": 1,
   "id": "8427231f-9f4d-4536-abf2-24b0d6a49cac",
   "metadata": {},
   "outputs": [
    {
     "name": "stdout",
     "output_type": "stream",
     "text": [
      "MOSEK not installed\n",
      "Clarabel not installed\n"
     ]
    }
   ],
   "source": [
    "using JuMP\n",
    "try import Mosek; using MosekTools; catch err; println(\"MOSEK not installed\"); end\n",
    "try import SCS;   catch err; println(\"SCS not installed\"); end\n",
    "try import SDPA;  catch err; println(\"SDPA not installed\"); end\n",
    "try import Clarabel; catch err; println(\"Clarabel not installed\"); end\n",
    "\n",
    "# Tasks:\n",
    "# Write LP. Write in vectorized notation.\n",
    "#Extract feasible point, optimal value, solver status, duality gap.\n",
    "# Formulate dual (by hand). Solve.\n",
    "\n",
    "# Next week:\n",
    "# Formulate LP with *no* solution\n",
    "# Extract infeasibility certificate.\n",
    "# LP's for weighted matching, stable set,.. problems"
   ]
  },
  {
   "cell_type": "markdown",
   "id": "03df7e65-7cca-4f15-a02b-433b53daefcc",
   "metadata": {},
   "source": [
    "### PRIMAL"
   ]
  },
  {
   "cell_type": "code",
   "execution_count": 3,
   "id": "6495d934-867a-4903-94cd-0f6c78729f70",
   "metadata": {},
   "outputs": [
    {
     "data": {
      "text/plain": [
       "A JuMP Model\n",
       "├ solver: SCS\n",
       "├ objective_sense: FEASIBILITY_SENSE\n",
       "├ num_variables: 0\n",
       "├ num_constraints: 0\n",
       "└ Names registered in the model: none"
      ]
     },
     "execution_count": 3,
     "metadata": {},
     "output_type": "execute_result"
    }
   ],
   "source": [
    "model = Model(SCS.Optimizer)"
   ]
  },
  {
   "cell_type": "code",
   "execution_count": 4,
   "id": "1300252d-54ee-48a7-b1f6-25aa2c4d5966",
   "metadata": {},
   "outputs": [
    {
     "data": {
      "text/plain": [
       "4-element Vector{VariableRef}:\n",
       " x[1]\n",
       " x[2]\n",
       " x[3]\n",
       " x[4]"
      ]
     },
     "execution_count": 4,
     "metadata": {},
     "output_type": "execute_result"
    }
   ],
   "source": [
    "@variable(model, x[1:4])  # Note: you can directly add some constraints in the variable declaration, e.g. @variable(model, x[1:4] ≥ 0) "
   ]
  },
  {
   "cell_type": "code",
   "execution_count": 17,
   "id": "76215c3f-e0c7-46fe-82d8-bce7ba2e9e6b",
   "metadata": {},
   "outputs": [
    {
     "data": {
      "text/latex": [
       "$$ \\begin{aligned}\n",
       "\\max\\quad & x_{1} + 2 x_{2} + 3 x_{3} + 4 x_{4}\\\\\n",
       "\\text{Subject to} \\quad & [x_{1} + 2 x_{2} + 3 x_{3} + 4 x_{4} - 1, 5 x_{1} + 6 x_{2} + 7 x_{3} + 8 x_{4} - 2] \\in \\text{Nonpositives()}\\\\\n",
       " & [x_{1} + 2 x_{2} + 3 x_{3} + 4 x_{4} - 1, 5 x_{1} + 6 x_{2} + 7 x_{3} + 8 x_{4} - 2] \\in \\text{Nonpositives()}\\\\\n",
       "\\end{aligned} $$"
      ]
     },
     "metadata": {},
     "output_type": "display_data"
    }
   ],
   "source": [
    "#@constraint(model,  [i=1:4], x[i] ≤ 1)\n",
    "A = [1 2 3 4; 5 6 7 8]\n",
    "b = [1; 2]\n",
    "@constraint(model, A*x ≤ b)\n",
    "c = [1; 2; 3; 4]\n",
    "@objective(model, Max, c'*x);\n",
    "print(model)"
   ]
  },
  {
   "cell_type": "code",
   "execution_count": 6,
   "id": "b821a78d-05a4-4999-8ca3-6e408f02d7cb",
   "metadata": {},
   "outputs": [
    {
     "name": "stdout",
     "output_type": "stream",
     "text": [
      "------------------------------------------------------------------\n",
      "\t       SCS v3.2.8 - Splitting Conic Solver\n",
      "\t(c) Brendan O'Donoghue, Stanford University, 2012\n",
      "------------------------------------------------------------------\n",
      "problem:  variables n: 4, constraints m: 2\n",
      "cones: \t  l: linear vars: 2\n",
      "settings: eps_abs: 1.0e-004, eps_rel: 1.0e-004, eps_infeas: 1.0e-007\n",
      "\t  alpha: 1.50, scale: 1.00e-001, adaptive_scale: 1\n",
      "\t  max_iters: 100000, normalize: 1, rho_x: 1.00e-006\n",
      "\t  acceleration_lookback: 10, acceleration_interval: 10\n",
      "\t  compiled with openmp parallelization enabled\n",
      "lin-sys:  sparse-direct-amd-qdldl\n",
      "\t  nnz(A): 8, nnz(P): 0\n",
      "------------------------------------------------------------------\n",
      " iter | pri res | dua res |   gap   |   obj   |  scale  | time (s)\n",
      "------------------------------------------------------------------\n",
      "     0|6.22e+001 4.00e+000 6.12e+001 -3.26e+001 1.00e-001 3.11e-003 \n",
      "    25|1.74e-005 8.02e-008 1.74e-005 -1.00e+000 1.00e-001 3.51e-003 \n",
      "------------------------------------------------------------------\n",
      "status:  solved\n",
      "timings: total: 3.51e-003s = setup: 1.80e-004s + solve: 3.33e-003s\n",
      "\t lin-sys: 1.43e-005s, cones: 1.39e-005s, accel: 2.80e-006s\n",
      "------------------------------------------------------------------\n",
      "objective = -0.999991\n",
      "------------------------------------------------------------------\n"
     ]
    }
   ],
   "source": [
    "optimize!(model)"
   ]
  },
  {
   "cell_type": "code",
   "execution_count": 7,
   "id": "97da6bb8-6c0b-46ee-b339-db0f9cb96c07",
   "metadata": {},
   "outputs": [
    {
     "data": {
      "text/plain": [
       "4-element Vector{Float64}:\n",
       " -0.08879632338479829\n",
       "  0.06516832533956753\n",
       "  0.12442729410368644\n",
       "  0.14629009986900038"
      ]
     },
     "execution_count": 7,
     "metadata": {},
     "output_type": "execute_result"
    }
   ],
   "source": [
    "x_o = value.(x)"
   ]
  },
  {
   "cell_type": "code",
   "execution_count": 8,
   "id": "d401486b-1110-47cd-8825-ba0705b39bf8",
   "metadata": {},
   "outputs": [
    {
     "data": {
      "text/plain": [
       "0.9999826090813977"
      ]
     },
     "execution_count": 8,
     "metadata": {},
     "output_type": "execute_result"
    }
   ],
   "source": [
    "α = objective_value(model)"
   ]
  },
  {
   "cell_type": "code",
   "execution_count": 9,
   "id": "61b15588-fd7d-427d-ba8a-c04e50d52c8a",
   "metadata": {},
   "outputs": [
    {
     "data": {
      "text/plain": [
       "solution_summary(; result = 1, verbose = false)\n",
       "├ solver_name          : SCS\n",
       "├ Termination\n",
       "│ ├ termination_status : OPTIMAL\n",
       "│ ├ result_count       : 1\n",
       "│ └ raw_status         : solved\n",
       "├ Solution (result = 1)\n",
       "│ ├ primal_status        : FEASIBLE_POINT\n",
       "│ ├ dual_status          : FEASIBLE_POINT\n",
       "│ ├ objective_value      : 9.99983e-01\n",
       "│ └ dual_objective_value : 1.00000e+00\n",
       "└ Work counters\n",
       "  └ solve_time (sec)   : 3.51110e-03"
      ]
     },
     "execution_count": 9,
     "metadata": {},
     "output_type": "execute_result"
    }
   ],
   "source": [
    "solution_summary(model)"
   ]
  },
  {
   "cell_type": "markdown",
   "id": "ae10bbb4-b9af-4e2b-9409-71098e2cd6c4",
   "metadata": {},
   "source": [
    "#### Note: solution summary gave _minus_ the objective value, at least for SCS solver. Seems to be an SCS internal convention."
   ]
  },
  {
   "cell_type": "markdown",
   "id": "4aba6852-ca6c-4a84-9145-e334da509b7d",
   "metadata": {},
   "source": [
    "### DUAL - by hand"
   ]
  },
  {
   "cell_type": "code",
   "execution_count": 10,
   "id": "f98ac524-ae29-4a71-8b37-0d420787244d",
   "metadata": {},
   "outputs": [
    {
     "data": {
      "text/latex": [
       "$$ \\begin{aligned}\n",
       "\\min\\quad & y_{1} + 2 y_{2}\\\\\n",
       "\\text{Subject to} \\quad & y_{1} \\geq 0\\\\\n",
       " & y_{2} \\geq 0\\\\\n",
       " & [y_{1} + 5 y_{2} - 1, 2 y_{1} + 6 y_{2} - 2, 3 y_{1} + 7 y_{2} - 3, 4 y_{1} + 8 y_{2} - 4] \\in \\text{Zeros()}\\\\\n",
       "\\end{aligned} $$"
      ]
     },
     "metadata": {},
     "output_type": "display_data"
    },
    {
     "name": "stdout",
     "output_type": "stream",
     "text": [
      "------------------------------------------------------------------\n",
      "\t       SCS v3.2.8 - Splitting Conic Solver\n",
      "\t(c) Brendan O'Donoghue, Stanford University, 2012\n",
      "------------------------------------------------------------------\n",
      "problem:  variables n: 2, constraints m: 6\n",
      "cones: \t  z: primal zero / dual free vars: 4\n",
      "\t  l: linear vars: 2\n",
      "settings: eps_abs: 1.0e-004, eps_rel: 1.0e-004, eps_infeas: 1.0e-007\n",
      "\t  alpha: 1.50, scale: 1.00e-001, adaptive_scale: 1\n",
      "\t  max_iters: 100000, normalize: 1, rho_x: 1.00e-006\n",
      "\t  acceleration_lookback: 10, acceleration_interval: 10\n",
      "\t  compiled with openmp parallelization enabled\n",
      "lin-sys:  sparse-direct-amd-qdldl\n",
      "\t  nnz(A): 10, nnz(P): 0\n",
      "------------------------------------------------------------------\n",
      " iter | pri res | dua res |   gap   |   obj   |  scale  | time (s)\n",
      "------------------------------------------------------------------\n",
      "     0|3.95e+000 2.01e+000 4.80e-001 2.23e+000 1.00e-001 6.38e-004 \n",
      "    25|1.14e-007 5.98e-008 8.01e-009 1.00e+000 1.00e-001 1.06e-003 \n",
      "------------------------------------------------------------------\n",
      "status:  solved\n",
      "timings: total: 1.07e-003s = setup: 1.16e-004s + solve: 9.52e-004s\n",
      "\t lin-sys: 1.39e-005s, cones: 6.90e-006s, accel: 3.50e-006s\n",
      "------------------------------------------------------------------\n",
      "objective = 1.000000\n",
      "------------------------------------------------------------------\n"
     ]
    }
   ],
   "source": [
    "dual_model = Model(SCS.Optimizer)\n",
    "@variable(dual_model, y[1:2])\n",
    "@objective(dual_model, Min, b'y)\n",
    "@constraint(dual_model, A'*y == c)\n",
    "@constraint(dual_model, y .≥ 0)\n",
    "print(dual_model)\n",
    "optimize!(dual_model)"
   ]
  },
  {
   "cell_type": "code",
   "execution_count": 11,
   "id": "8c80c1a4-4be5-42af-9d9b-c593a9961e92",
   "metadata": {},
   "outputs": [
    {
     "data": {
      "text/plain": [
       "2-element Vector{Float64}:\n",
       " 0.9999999621566832\n",
       " 4.6741521220820975e-9"
      ]
     },
     "execution_count": 11,
     "metadata": {},
     "output_type": "execute_result"
    }
   ],
   "source": [
    "y_o = value.(y)"
   ]
  },
  {
   "cell_type": "code",
   "execution_count": 12,
   "id": "514f0da6-6810-4252-bc41-92d4410fa340",
   "metadata": {},
   "outputs": [
    {
     "data": {
      "text/plain": [
       "0.9999999715049873"
      ]
     },
     "execution_count": 12,
     "metadata": {},
     "output_type": "execute_result"
    }
   ],
   "source": [
    "β = objective_value(dual_model)"
   ]
  },
  {
   "cell_type": "code",
   "execution_count": 13,
   "id": "48305397-1e55-4a15-96f5-804e5e0cf601",
   "metadata": {},
   "outputs": [
    {
     "data": {
      "text/plain": [
       "solution_summary(; result = 1, verbose = false)\n",
       "├ solver_name          : SCS\n",
       "├ Termination\n",
       "│ ├ termination_status : OPTIMAL\n",
       "│ ├ result_count       : 1\n",
       "│ └ raw_status         : solved\n",
       "├ Solution (result = 1)\n",
       "│ ├ primal_status        : FEASIBLE_POINT\n",
       "│ ├ dual_status          : FEASIBLE_POINT\n",
       "│ ├ objective_value      : 1.00000e+00\n",
       "│ └ dual_objective_value : 1.00000e+00\n",
       "└ Work counters\n",
       "  └ solve_time (sec)   : 1.06740e-03"
      ]
     },
     "execution_count": 13,
     "metadata": {},
     "output_type": "execute_result"
    }
   ],
   "source": [
    "solution_summary(dual_model)"
   ]
  },
  {
   "cell_type": "code",
   "execution_count": 14,
   "id": "c6aafc8a-c5c2-47ab-9b74-4cd285495285",
   "metadata": {},
   "outputs": [
    {
     "data": {
      "text/plain": [
       "1.7362423589628584e-5"
      ]
     },
     "execution_count": 14,
     "metadata": {},
     "output_type": "execute_result"
    }
   ],
   "source": [
    "# duality gap\n",
    "β - α"
   ]
  },
  {
   "cell_type": "markdown",
   "id": "2e627558-89fc-4489-b132-81f83033b7e3",
   "metadata": {},
   "source": [
    "### DUAL - with package"
   ]
  },
  {
   "cell_type": "code",
   "execution_count": 15,
   "id": "28de2f56-0856-4351-93a8-996578b89022",
   "metadata": {},
   "outputs": [
    {
     "ename": "LoadError",
     "evalue": "ArgumentError: Package Dualization not found in current path.\n- Run `import Pkg; Pkg.add(\"Dualization\")` to install the Dualization package.",
     "output_type": "error",
     "traceback": [
      "ArgumentError: Package Dualization not found in current path.\n- Run `import Pkg; Pkg.add(\"Dualization\")` to install the Dualization package.",
      "",
      "Stacktrace:",
      " [1] \u001b[0m\u001b[1mmacro expansion\u001b[22m",
      "\u001b[90m   @\u001b[39m \u001b[90m.\\\u001b[39m\u001b[90m\u001b[4mloading.jl:2296\u001b[24m\u001b[39m\u001b[90m [inlined]\u001b[39m",
      " [2] \u001b[0m\u001b[1mmacro expansion\u001b[22m",
      "\u001b[90m   @\u001b[39m \u001b[90m.\\\u001b[39m\u001b[90m\u001b[4mlock.jl:273\u001b[24m\u001b[39m\u001b[90m [inlined]\u001b[39m",
      " [3] \u001b[0m\u001b[1m__require\u001b[22m\u001b[0m\u001b[1m(\u001b[22m\u001b[90minto\u001b[39m::\u001b[0mModule, \u001b[90mmod\u001b[39m::\u001b[0mSymbol\u001b[0m\u001b[1m)\u001b[22m",
      "\u001b[90m   @\u001b[39m \u001b[90mBase\u001b[39m \u001b[90m.\\\u001b[39m\u001b[90m\u001b[4mloading.jl:2271\u001b[24m\u001b[39m",
      " [4] \u001b[0m\u001b[1m#invoke_in_world#3\u001b[22m",
      "\u001b[90m   @\u001b[39m \u001b[90m.\\\u001b[39m\u001b[90m\u001b[4messentials.jl:1089\u001b[24m\u001b[39m\u001b[90m [inlined]\u001b[39m",
      " [5] \u001b[0m\u001b[1minvoke_in_world\u001b[22m",
      "\u001b[90m   @\u001b[39m \u001b[90m.\\\u001b[39m\u001b[90m\u001b[4messentials.jl:1086\u001b[24m\u001b[39m\u001b[90m [inlined]\u001b[39m",
      " [6] \u001b[0m\u001b[1mrequire\u001b[22m\u001b[0m\u001b[1m(\u001b[22m\u001b[90minto\u001b[39m::\u001b[0mModule, \u001b[90mmod\u001b[39m::\u001b[0mSymbol\u001b[0m\u001b[1m)\u001b[22m",
      "\u001b[90m   @\u001b[39m \u001b[90mBase\u001b[39m \u001b[90m.\\\u001b[39m\u001b[90m\u001b[4mloading.jl:2260\u001b[24m\u001b[39m"
     ]
    }
   ],
   "source": [
    "using Dualization\n",
    "model2 = Model(Mosek.Optimizer)\n",
    "@variable(model2, x[1:2] ≤ 1)\n",
    "dual_model = dualize(model)\n",
    "print(dual_model)"
   ]
  }
 ],
 "metadata": {
  "kernelspec": {
   "display_name": "Julia 1.11.7",
   "language": "julia",
   "name": "julia-1.11"
  },
  "language_info": {
   "file_extension": ".jl",
   "mimetype": "application/julia",
   "name": "julia",
   "version": "1.11.7"
  }
 },
 "nbformat": 4,
 "nbformat_minor": 5
}
