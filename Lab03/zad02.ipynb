{
 "cells": [
  {
   "cell_type": "markdown",
   "id": "d3229fe6",
   "metadata": {},
   "source": [
    "# LP RELAXATION"
   ]
  },
  {
   "cell_type": "code",
   "execution_count": null,
   "id": "51fc6c96",
   "metadata": {},
   "outputs": [],
   "source": [
    "using JuMP\n",
    "using SDPA\n",
    "using SCS\n",
    "using "
   ]
  },
  {
   "cell_type": "markdown",
   "id": "db729714",
   "metadata": {},
   "source": [
    "### MAXIMUM PERFECT MATCHING"
   ]
  },
  {
   "cell_type": "code",
   "execution_count": 31,
   "id": "b4715c21",
   "metadata": {},
   "outputs": [
    {
     "data": {
      "text/plain": [
       "A JuMP Model\n",
       "├ solver: SCS\n",
       "├ objective_sense: FEASIBILITY_SENSE\n",
       "├ num_variables: 0\n",
       "├ num_constraints: 0\n",
       "└ Names registered in the model: none"
      ]
     },
     "execution_count": 31,
     "metadata": {},
     "output_type": "execute_result"
    }
   ],
   "source": [
    "model = Model(SCS.Optimizer)"
   ]
  },
  {
   "cell_type": "code",
   "execution_count": null,
   "id": "e2c350d8",
   "metadata": {},
   "outputs": [
    {
     "data": {
      "text/plain": [
       "3×3 Matrix{Int64}:\n",
       " 1  0  1\n",
       " 0  1  1\n",
       " 1  1  0"
      ]
     },
     "execution_count": 32,
     "metadata": {},
     "output_type": "execute_result"
    }
   ],
   "source": [
    "A = [1 0 1;\n",
    "     0 1 1;\n",
    "     1 1 0]\n"
   ]
  },
  {
   "cell_type": "code",
   "execution_count": 33,
   "id": "0c886f65",
   "metadata": {},
   "outputs": [
    {
     "data": {
      "text/plain": [
       "(1:3, 1:3)"
      ]
     },
     "execution_count": 33,
     "metadata": {},
     "output_type": "execute_result"
    }
   ],
   "source": [
    "U, V = 1:size(A,1), 1:size(A,2)"
   ]
  },
  {
   "cell_type": "code",
   "execution_count": 34,
   "id": "b3be004f",
   "metadata": {},
   "outputs": [
    {
     "data": {
      "text/plain": [
       "2-dimensional DenseAxisArray{VariableRef,2,...} with index sets:\n",
       "    Dimension 1, 1:3\n",
       "    Dimension 2, 1:3\n",
       "And data, a 3×3 Matrix{VariableRef}:\n",
       " x[1,1]  x[1,2]  x[1,3]\n",
       " x[2,1]  x[2,2]  x[2,3]\n",
       " x[3,1]  x[3,2]  x[3,3]"
      ]
     },
     "execution_count": 34,
     "metadata": {},
     "output_type": "execute_result"
    }
   ],
   "source": [
    "@variable(model, 0 <= x[U,V] <= 1)"
   ]
  },
  {
   "cell_type": "code",
   "execution_count": 35,
   "id": "d5fcb706",
   "metadata": {},
   "outputs": [
    {
     "data": {
      "text/plain": [
       "1-dimensional DenseAxisArray{ConstraintRef{Model, MathOptInterface.ConstraintIndex{MathOptInterface.ScalarAffineFunction{Float64}, MathOptInterface.EqualTo{Float64}}, ScalarShape},1,...} with index sets:\n",
       "    Dimension 1, 1:3\n",
       "And data, a 3-element Vector{ConstraintRef{Model, MathOptInterface.ConstraintIndex{MathOptInterface.ScalarAffineFunction{Float64}, MathOptInterface.EqualTo{Float64}}, ScalarShape}}:\n",
       " x[1,1] + x[2,1] + x[3,1] == 1\n",
       " x[1,2] + x[2,2] + x[3,2] == 1\n",
       " x[1,3] + x[2,3] + x[3,3] == 1"
      ]
     },
     "execution_count": 35,
     "metadata": {},
     "output_type": "execute_result"
    }
   ],
   "source": [
    "# Każdy element z U przypisany dokładnie do jednego z V\n",
    "@constraint(model, [i in U], sum(x[i, j] for j in V) == 1)\n",
    "\n",
    "# Każdy element z V przypisany dokładnie do jednego z U\n",
    "@constraint(model, [j in V], sum(x[i, j] for i in U) == 1)"
   ]
  },
  {
   "cell_type": "code",
   "execution_count": 36,
   "id": "845f6718",
   "metadata": {},
   "outputs": [
    {
     "data": {
      "text/latex": [
       "$ x_{1,1} + x_{1,3} + x_{2,2} + x_{2,3} + x_{3,1} + x_{3,2} $"
      ],
      "text/plain": [
       "x[1,1] + x[1,3] + x[2,2] + x[2,3] + x[3,1] + x[3,2]"
      ]
     },
     "execution_count": 36,
     "metadata": {},
     "output_type": "execute_result"
    }
   ],
   "source": [
    "@objective(model, Max, sum(A[i, j] * x[i, j] for i in U, j in V))"
   ]
  },
  {
   "cell_type": "code",
   "execution_count": 37,
   "id": "22669d5c",
   "metadata": {},
   "outputs": [
    {
     "name": "stdout",
     "output_type": "stream",
     "text": [
      "------------------------------------------------------------------\n",
      "\t       SCS v3.2.8 - Splitting Conic Solver\n",
      "\t(c) Brendan O'Donoghue, Stanford University, 2012\n",
      "------------------------------------------------------------------\n",
      "problem:  variables n: 9, constraints m: 24\n",
      "cones: \t  z: primal zero / dual free vars: 6\n",
      "\t  l: linear vars: 18\n",
      "settings: eps_abs: 1.0e-004, eps_rel: 1.0e-004, eps_infeas: 1.0e-007\n",
      "\t  alpha: 1.50, scale: 1.00e-001, adaptive_scale: 1\n",
      "\t  max_iters: 100000, normalize: 1, rho_x: 1.00e-006\n",
      "\t  acceleration_lookback: 10, acceleration_interval: 10\n",
      "\t  compiled with openmp parallelization enabled\n",
      "lin-sys:  sparse-direct-amd-qdldl\n",
      "\t  nnz(A): 36, nnz(P): 0\n",
      "------------------------------------------------------------------\n",
      " iter | pri res | dua res |   gap   |   obj   |  scale  | time (s)\n",
      "------------------------------------------------------------------\n",
      "     0|6.00e+000 8.00e-001 1.86e+001 -1.47e+001 1.00e-001 7.14e-004 \n",
      "    50|1.28e-007 8.89e-009 3.67e-007 -3.00e+000 1.00e-001 1.43e-003 \n",
      "------------------------------------------------------------------\n",
      "status:  solved\n",
      "timings: total: 1.43e-003s = setup: 1.51e-004s + solve: 1.28e-003s\n",
      "\t lin-sys: 4.99e-005s, cones: 1.49e-005s, accel: 6.20e-006s\n",
      "------------------------------------------------------------------\n",
      "objective = -3.000000\n",
      "------------------------------------------------------------------\n"
     ]
    }
   ],
   "source": [
    "optimize!(model)"
   ]
  },
  {
   "cell_type": "code",
   "execution_count": 38,
   "id": "22c12ca6",
   "metadata": {},
   "outputs": [
    {
     "data": {
      "text/plain": [
       "2-dimensional DenseAxisArray{Float64,2,...} with index sets:\n",
       "    Dimension 1, 1:3\n",
       "    Dimension 2, 1:3\n",
       "And data, a 3×3 Matrix{Float64}:\n",
       "  0.5         -1.27915e-7   0.5\n",
       " -1.27915e-7   0.5          0.5\n",
       "  0.5          0.5         -1.27915e-7"
      ]
     },
     "execution_count": 38,
     "metadata": {},
     "output_type": "execute_result"
    }
   ],
   "source": [
    "value.(x)"
   ]
  }
 ],
 "metadata": {
  "kernelspec": {
   "display_name": "Julia 1.11.7",
   "language": "julia",
   "name": "julia-1.11"
  },
  "language_info": {
   "file_extension": ".jl",
   "mimetype": "application/julia",
   "name": "julia",
   "version": "1.11.7"
  }
 },
 "nbformat": 4,
 "nbformat_minor": 5
}
