{
 "cells": [
  {
   "cell_type": "markdown",
   "id": "00a1e7c3",
   "metadata": {},
   "source": [
    "# COMPLEMENTARY SLACKNESS"
   ]
  },
  {
   "cell_type": "code",
   "execution_count": 37,
   "id": "f12c83c6",
   "metadata": {},
   "outputs": [],
   "source": [
    "using JuMP\n",
    "using SDPA\n",
    "using SCS"
   ]
  },
  {
   "cell_type": "markdown",
   "id": "1a09d172",
   "metadata": {},
   "source": [
    "# PRIMAL"
   ]
  },
  {
   "cell_type": "code",
   "execution_count": 38,
   "id": "e0a87d82",
   "metadata": {},
   "outputs": [
    {
     "data": {
      "text/plain": [
       "A JuMP Model\n",
       "├ solver: SCS\n",
       "├ objective_sense: FEASIBILITY_SENSE\n",
       "├ num_variables: 0\n",
       "├ num_constraints: 0\n",
       "└ Names registered in the model: none"
      ]
     },
     "execution_count": 38,
     "metadata": {},
     "output_type": "execute_result"
    }
   ],
   "source": [
    "model = Model(SCS.Optimizer)"
   ]
  },
  {
   "cell_type": "code",
   "execution_count": 39,
   "id": "5c35a58b",
   "metadata": {},
   "outputs": [
    {
     "data": {
      "text/plain": [
       "2-element Vector{VariableRef}:\n",
       " x[1]\n",
       " x[2]"
      ]
     },
     "execution_count": 39,
     "metadata": {},
     "output_type": "execute_result"
    }
   ],
   "source": [
    "unregister(model, :x)\n",
    "@variable(model, x[1:2] >= 0)"
   ]
  },
  {
   "cell_type": "code",
   "execution_count": 40,
   "id": "68080858",
   "metadata": {},
   "outputs": [
    {
     "data": {
      "text/plain": [
       "2-element Vector{Int64}:\n",
       " 3\n",
       " 2"
      ]
     },
     "execution_count": 40,
     "metadata": {},
     "output_type": "execute_result"
    }
   ],
   "source": [
    "A = [1 1; 1 0]\n",
    "b = [4; 2]\n",
    "c = [3; 2]"
   ]
  },
  {
   "cell_type": "code",
   "execution_count": 41,
   "id": "7adfb085",
   "metadata": {},
   "outputs": [
    {
     "data": {
      "text/latex": [
       "$ 3 x_{1} + 2 x_{2} $"
      ],
      "text/plain": [
       "3 x[1] + 2 x[2]"
      ]
     },
     "execution_count": 41,
     "metadata": {},
     "output_type": "execute_result"
    }
   ],
   "source": [
    "@objective(model, Max, c' * x)"
   ]
  },
  {
   "cell_type": "code",
   "execution_count": 42,
   "id": "7acbed5f",
   "metadata": {},
   "outputs": [
    {
     "data": {
      "text/latex": [
       "$$ [x_{1} + x_{2} - 4, x_{1} - 2] \\in \\text{Nonpositives()} $$"
      ],
      "text/plain": [
       "[x[1] + x[2] - 4, x[1] - 2] in Nonpositives()"
      ]
     },
     "execution_count": 42,
     "metadata": {},
     "output_type": "execute_result"
    }
   ],
   "source": [
    "@constraint(model, A * x <= b)"
   ]
  },
  {
   "cell_type": "code",
   "execution_count": 43,
   "id": "70d55e11",
   "metadata": {},
   "outputs": [
    {
     "name": "stdout",
     "output_type": "stream",
     "text": [
      "------------------------------------------------------------------\n",
      "\t       SCS v3.2.8 - Splitting Conic Solver\n",
      "\t(c) Brendan O'Donoghue, Stanford University, 2012\n",
      "------------------------------------------------------------------\n",
      "problem:  variables n: 2, constraints m: 4\n",
      "cones: \t  l: linear vars: 4\n",
      "settings: eps_abs: 1.0e-004, eps_rel: 1.0e-004, eps_infeas: 1.0e-007\n",
      "\t  alpha: 1.50, scale: 1.00e-001, adaptive_scale: 1\n",
      "\t  max_iters: 100000, normalize: 1, rho_x: 1.00e-006\n",
      "\t  acceleration_lookback: 10, acceleration_interval: 10\n",
      "\t  compiled with openmp parallelization enabled\n",
      "lin-sys:  sparse-direct-amd-qdldl\n",
      "\t  nnz(A): 5, nnz(P): 0\n",
      "------------------------------------------------------------------\n",
      " iter | pri res | dua res |   gap   |   obj   |  scale  | time (s)\n",
      "------------------------------------------------------------------\n",
      "     0|3.51e+001 8.98e-001 8.69e+001 -5.57e+001 1.00e-001 2.72e-004 \n",
      "   100|1.40e-010 5.84e-011 2.02e-010 -1.00e+001 1.00e-001 5.89e-002 \n",
      "------------------------------------------------------------------\n",
      "status:  solved\n",
      "timings: total: 5.89e-002s = setup: 9.36e-005s + solve: 5.88e-002s\n",
      "\t lin-sys: 3.13e-005s, cones: 1.49e-005s, accel: 5.81e-002s\n",
      "------------------------------------------------------------------\n",
      "objective = -10.000000\n",
      "------------------------------------------------------------------\n"
     ]
    }
   ],
   "source": [
    "optimize!(model)"
   ]
  },
  {
   "cell_type": "code",
   "execution_count": 44,
   "id": "fab113cc",
   "metadata": {},
   "outputs": [
    {
     "data": {
      "text/plain": [
       "2-element Vector{Float64}:\n",
       " 2.0000000001395817\n",
       " 1.9999999997915006"
      ]
     },
     "execution_count": 44,
     "metadata": {},
     "output_type": "execute_result"
    }
   ],
   "source": [
    "value.(x)"
   ]
  },
  {
   "cell_type": "markdown",
   "id": "6fdde079",
   "metadata": {},
   "source": [
    "# DUAL\n"
   ]
  },
  {
   "cell_type": "code",
   "execution_count": 45,
   "id": "42f72300",
   "metadata": {},
   "outputs": [
    {
     "data": {
      "text/plain": [
       "A JuMP Model\n",
       "├ solver: SCS\n",
       "├ objective_sense: FEASIBILITY_SENSE\n",
       "├ num_variables: 0\n",
       "├ num_constraints: 0\n",
       "└ Names registered in the model: none"
      ]
     },
     "execution_count": 45,
     "metadata": {},
     "output_type": "execute_result"
    }
   ],
   "source": [
    "model_d = Model(SCS.Optimizer)"
   ]
  },
  {
   "cell_type": "code",
   "execution_count": 46,
   "id": "6de1773d",
   "metadata": {},
   "outputs": [
    {
     "data": {
      "text/plain": [
       "2-element Vector{VariableRef}:\n",
       " y[1]\n",
       " y[2]"
      ]
     },
     "execution_count": 46,
     "metadata": {},
     "output_type": "execute_result"
    }
   ],
   "source": [
    "unregister(model_d, :y)\n",
    "@variable(model_d, y[1:2])"
   ]
  },
  {
   "cell_type": "code",
   "execution_count": 47,
   "id": "b84e4c22",
   "metadata": {},
   "outputs": [
    {
     "data": {
      "text/plain": [
       "2-element Vector{ConstraintRef{Model, MathOptInterface.ConstraintIndex{MathOptInterface.ScalarAffineFunction{Float64}, MathOptInterface.EqualTo{Float64}}, ScalarShape}}:\n",
       " y[1] + y[2] == 3\n",
       " y[1] == 2"
      ]
     },
     "execution_count": 47,
     "metadata": {},
     "output_type": "execute_result"
    }
   ],
   "source": [
    "@constraint(model_d, A' * y .== c)"
   ]
  },
  {
   "cell_type": "code",
   "execution_count": 48,
   "id": "4f6330d6",
   "metadata": {},
   "outputs": [
    {
     "data": {
      "text/latex": [
       "$ 4 y_{1} + 2 y_{2} $"
      ],
      "text/plain": [
       "4 y[1] + 2 y[2]"
      ]
     },
     "execution_count": 48,
     "metadata": {},
     "output_type": "execute_result"
    }
   ],
   "source": [
    "@objective(model_d, Min, b' * y)"
   ]
  },
  {
   "cell_type": "code",
   "execution_count": 49,
   "id": "9b46aac6",
   "metadata": {},
   "outputs": [
    {
     "name": "stdout",
     "output_type": "stream",
     "text": [
      "------------------------------------------------------------------\n",
      "\t       SCS v3.2.8 - Splitting Conic Solver\n",
      "\t(c) Brendan O'Donoghue, Stanford University, 2012\n",
      "------------------------------------------------------------------\n",
      "problem:  variables n: 2, constraints m: 2\n",
      "cones: \t  z: primal zero / dual free vars: 2\n",
      "settings: eps_abs: 1.0e-004, eps_rel: 1.0e-004, eps_infeas: 1.0e-007\n",
      "\t  alpha: 1.50, scale: 1.00e-001, adaptive_scale: 1\n",
      "\t  max_iters: 100000, normalize: 1, rho_x: 1.00e-006\n",
      "\t  acceleration_lookback: 10, acceleration_interval: 10\n",
      "\t  compiled with openmp parallelization enabled\n",
      "lin-sys:  sparse-direct-amd-qdldl\n",
      "\t  nnz(A): 3, nnz(P): 0\n",
      "------------------------------------------------------------------\n",
      " iter | pri res | dua res |   gap   |   obj   |  scale  | time (s)\n",
      "------------------------------------------------------------------\n",
      "     0|2.94e+000 4.00e+000 1.93e-001 1.99e+001 1.00e-001 2.90e-003 \n",
      "    25|2.48e-008 1.19e-007 2.21e-007 1.00e+001 1.00e-001 3.21e-003 \n",
      "------------------------------------------------------------------\n",
      "status:  solved\n",
      "timings: total: 3.21e-003s = setup: 8.61e-005s + solve: 3.12e-003s\n",
      "\t lin-sys: 7.90e-006s, cones: 6.20e-006s, accel: 2.00e-006s\n",
      "------------------------------------------------------------------\n",
      "objective = 10.000000\n",
      "------------------------------------------------------------------\n"
     ]
    }
   ],
   "source": [
    "optimize!(model_d)"
   ]
  },
  {
   "cell_type": "markdown",
   "id": "f8d1d91a",
   "metadata": {},
   "source": [
    "### Complementary slackness result"
   ]
  },
  {
   "cell_type": "code",
   "execution_count": 50,
   "id": "1e47b915",
   "metadata": {},
   "outputs": [
    {
     "data": {
      "text/plain": [
       "1.7461581829338221e-12"
      ]
     },
     "execution_count": 50,
     "metadata": {},
     "output_type": "execute_result"
    }
   ],
   "source": [
    "value(y)' * (A * value(x) - b)"
   ]
  },
  {
   "cell_type": "code",
   "execution_count": 51,
   "id": "7a622fe6",
   "metadata": {},
   "outputs": [
    {
     "data": {
      "text/plain": [
       "2-element Vector{Float64}:\n",
       " 1.9999999862603302\n",
       " 0.9999999889877819"
      ]
     },
     "execution_count": 51,
     "metadata": {},
     "output_type": "execute_result"
    }
   ],
   "source": [
    "value(y)"
   ]
  },
  {
   "cell_type": "code",
   "execution_count": 52,
   "id": "9dde41a2",
   "metadata": {},
   "outputs": [
    {
     "data": {
      "text/plain": [
       "2-element Vector{Float64}:\n",
       " 2.0000000001395817\n",
       " 1.9999999997915006"
      ]
     },
     "execution_count": 52,
     "metadata": {},
     "output_type": "execute_result"
    }
   ],
   "source": [
    "value(x)"
   ]
  }
 ],
 "metadata": {
  "kernelspec": {
   "display_name": "Julia 1.11.7",
   "language": "julia",
   "name": "julia-1.11"
  },
  "language_info": {
   "file_extension": ".jl",
   "mimetype": "application/julia",
   "name": "julia",
   "version": "1.11.7"
  }
 },
 "nbformat": 4,
 "nbformat_minor": 5
}
